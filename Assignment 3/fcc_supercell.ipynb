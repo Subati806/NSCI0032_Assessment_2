{
 "cells": [
  {
   "cell_type": "markdown",
   "id": "0b801647-77d4-485f-b259-29e44f526aae",
   "metadata": {},
   "source": [
    "# Assignment 3 - FCC Supercell\n",
    "\n",
    "This notebook constructs and visualises a 4×4×4 supercell of the Face-Centered Cubic (FCC) lattice.\n"
   ]
  },
  {
   "cell_type": "code",
   "execution_count": 1,
   "id": "53e72248-5569-4116-9589-952070370188",
   "metadata": {},
   "outputs": [
    {
     "data": {
      "application/vnd.jupyter.widget-view+json": {
       "model_id": "66d3ed3552a24532984584bb390c4729",
       "version_major": 2,
       "version_minor": 0
      },
      "text/plain": []
     },
     "metadata": {},
     "output_type": "display_data"
    },
    {
     "data": {
      "application/vnd.jupyter.widget-view+json": {
       "model_id": "45fc88a7e74c47e0bc13ee631d9d5c97",
       "version_major": 2,
       "version_minor": 0
      },
      "text/plain": [
       "NGLWidget()"
      ]
     },
     "metadata": {},
     "output_type": "display_data"
    }
   ],
   "source": [
    "from ase.build import bulk\n",
    "import nglview as nv\n",
    "\n",
    "a = 4.0\n",
    "\n",
    "# 构建 FCC 单胞\n",
    "fcc = bulk('X', crystalstructure='fcc', a=a)\n",
    "\n",
    "# 构建 4×4×4 超晶胞\n",
    "fcc_super = fcc.repeat((4, 4, 4))\n",
    "\n",
    "# 可视化\n",
    "view = nv.show_ase(fcc_super)\n",
    "view.add_unitcell()\n",
    "view"
   ]
  },
  {
   "cell_type": "markdown",
   "id": "ebeb68da-34e5-4233-b24e-f8f6bcb54a38",
   "metadata": {},
   "source": [
    "- Structure: Face-Centered Cubic (FCC)\n",
    "- Lattice constant: a = 4.0 Å\n",
    "- Supercell size: 4×4×4\n",
    "- Number of atoms: 4 atoms/cell × 64 = 256 atoms"
   ]
  },
  {
   "cell_type": "code",
   "execution_count": null,
   "id": "eb30aa89-8ba1-4796-970c-778212b5a9b1",
   "metadata": {},
   "outputs": [],
   "source": []
  }
 ],
 "metadata": {
  "kernelspec": {
   "display_name": "Python 3 (ipykernel)",
   "language": "python",
   "name": "python3"
  },
  "language_info": {
   "codemirror_mode": {
    "name": "ipython",
    "version": 3
   },
   "file_extension": ".py",
   "mimetype": "text/x-python",
   "name": "python",
   "nbconvert_exporter": "python",
   "pygments_lexer": "ipython3",
   "version": "3.10.17"
  }
 },
 "nbformat": 4,
 "nbformat_minor": 5
}
