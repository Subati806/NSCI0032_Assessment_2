{
 "cells": [
  {
   "cell_type": "markdown",
   "id": "d20adab3-5a5b-42c4-a6c0-f15652585186",
   "metadata": {},
   "source": [
    "# Assignment 3 - Body-Centered Cubic (BCC) Unit Cell\n",
    "\n",
    "This notebook constructs and visualises the Body-Centered Cubic (BCC) lattice structure using ASE and NGLView.\n",
    "We demonstrate both the conventional and primitive unit cells.\n"
   ]
  },
  {
   "cell_type": "code",
   "execution_count": 1,
   "id": "3e7563ac-af27-4cfc-823f-d6d5fdbdfed5",
   "metadata": {},
   "outputs": [
    {
     "data": {
      "application/vnd.jupyter.widget-view+json": {
       "model_id": "e21ecc79e6a54fefb3c1150b1d62c353",
       "version_major": 2,
       "version_minor": 0
      },
      "text/plain": []
     },
     "metadata": {},
     "output_type": "display_data"
    }
   ],
   "source": [
    "from ase.build import bulk\n",
    "import nglview as nv\n",
    "\n",
    "a = 4.0  # Lattice constant in Å\n"
   ]
  },
  {
   "cell_type": "code",
   "execution_count": 2,
   "id": "5c58bcc4-b3e2-4860-a447-7e120c4b20f0",
   "metadata": {},
   "outputs": [
    {
     "data": {
      "application/vnd.jupyter.widget-view+json": {
       "model_id": "274e55393167430e9171ebac6b264fa0",
       "version_major": 2,
       "version_minor": 0
      },
      "text/plain": [
       "NGLWidget()"
      ]
     },
     "metadata": {},
     "output_type": "display_data"
    }
   ],
   "source": [
    "# 构建 BCC conventional unit cell\n",
    "bcc_conventional = bulk('X', crystalstructure='bcc', a=a)\n",
    "\n",
    "# 创建视图对象并添加晶胞框\n",
    "view = nv.show_ase(bcc_conventional)\n",
    "view.add_unitcell()\n",
    "view\n"
   ]
  },
  {
   "cell_type": "markdown",
   "id": "47be93aa-5001-4de7-a533-cf5b4347458d",
   "metadata": {},
   "source": [
    "The BCC lattice's primitive unit cell is different from the conventional cubic unit cell.\n",
    "However, for the purposes of this assignment, we display the conventional cubic unit cell,\n",
    "as it best visualises the body-centered nature of the structure.\n"
   ]
  },
  {
   "cell_type": "code",
   "execution_count": null,
   "id": "1508464a-66f5-448c-b411-9c63454a02c7",
   "metadata": {},
   "outputs": [],
   "source": []
  }
 ],
 "metadata": {
  "kernelspec": {
   "display_name": "Python 3 (ipykernel)",
   "language": "python",
   "name": "python3"
  },
  "language_info": {
   "codemirror_mode": {
    "name": "ipython",
    "version": 3
   },
   "file_extension": ".py",
   "mimetype": "text/x-python",
   "name": "python",
   "nbconvert_exporter": "python",
   "pygments_lexer": "ipython3",
   "version": "3.10.17"
  }
 },
 "nbformat": 4,
 "nbformat_minor": 5
}
