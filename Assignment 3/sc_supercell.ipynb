{
 "cells": [
  {
   "cell_type": "markdown",
   "id": "c57fe719-00f4-472e-a5b9-cf210a34edef",
   "metadata": {},
   "source": [
    "# Assignment 3 - Simple Cubic (SC) Supercell\n",
    "\n",
    "This notebook constructs and visualises a 4×4×4 supercell of the simple cubic lattice.\n"
   ]
  },
  {
   "cell_type": "code",
   "execution_count": 2,
   "id": "784466ff-c251-41df-81c5-7c9fbd7d74e1",
   "metadata": {},
   "outputs": [
    {
     "data": {
      "application/vnd.jupyter.widget-view+json": {
       "model_id": "ddbfd420776049248bd770aba6eccf10",
       "version_major": 2,
       "version_minor": 0
      },
      "text/plain": []
     },
     "metadata": {},
     "output_type": "display_data"
    },
    {
     "data": {
      "application/vnd.jupyter.widget-view+json": {
       "model_id": "035e744316224edb8fbe46570751ecc3",
       "version_major": 2,
       "version_minor": 0
      },
      "text/plain": [
       "NGLWidget()"
      ]
     },
     "metadata": {},
     "output_type": "display_data"
    }
   ],
   "source": [
    "from ase import Atoms\n",
    "import nglview as nv\n",
    "\n",
    "# 原始 SC 单胞\n",
    "a = 4.0\n",
    "sc_unitcell = Atoms('X',\n",
    "                    positions=[[0, 0, 0]],\n",
    "                    cell=[a, a, a],\n",
    "                    pbc=True)\n",
    "\n",
    "# 构建 4×4×4 的 supercell\n",
    "sc_supercell = sc_unitcell.repeat((4, 4, 4))\n",
    "\n",
    "# 可视化\n",
    "view = nv.show_ase(sc_supercell)\n",
    "view.add_unitcell()\n",
    "view\n"
   ]
  },
  {
   "cell_type": "markdown",
   "id": "4a19535e-c093-4ccb-98ba-c7793c235570",
   "metadata": {},
   "source": [
    "- Structure: Simple Cubic (SC)\n",
    "- Lattice constant: a = 4.0 Å\n",
    "- Supercell size: 4×4×4\n",
    "- Number of atoms: 4×4×4 = 64 atoms\n"
   ]
  },
  {
   "cell_type": "markdown",
   "id": "0db039d6-7b78-4036-ba0d-a9e095b079c0",
   "metadata": {},
   "source": [
    "# Assignment 3 - BCC Supercell\n",
    "\n",
    "This notebook constructs and visualises a 4×4×4 supercell of the Body-Centered Cubic (BCC) lattice.\n"
   ]
  },
  {
   "cell_type": "code",
   "execution_count": 4,
   "id": "38a098d0-840a-485e-b7d6-b5705c8de9dd",
   "metadata": {},
   "outputs": [
    {
     "data": {
      "application/vnd.jupyter.widget-view+json": {
       "model_id": "d3e4ead1957a425e8dc8eb28aa40d0f8",
       "version_major": 2,
       "version_minor": 0
      },
      "text/plain": [
       "NGLWidget()"
      ]
     },
     "metadata": {},
     "output_type": "display_data"
    }
   ],
   "source": [
    "from ase.build import bulk\n",
    "import nglview as nv\n",
    "\n",
    "a = 4.0\n",
    "\n",
    "# 构建 BCC 单胞\n",
    "bcc = bulk('X', crystalstructure='bcc', a=a)\n",
    "\n",
    "# 构建 4×4×4 超晶胞\n",
    "bcc_super = bcc.repeat((4, 4, 4))\n",
    "\n",
    "# 可视化\n",
    "view = nv.show_ase(bcc_super)\n",
    "view.add_unitcell()\n",
    "view\n"
   ]
  },
  {
   "cell_type": "markdown",
   "id": "178d1d84-d1d8-4faa-88d2-4c91168a1315",
   "metadata": {},
   "source": [
    "- Structure: Body-Centered Cubic (BCC)\n",
    "- Lattice constant: a = 4.0 Å\n",
    "- Supercell size: 4×4×4\n",
    "- Number of atoms: 2 atoms/cell × 64 = 128 atoms\n"
   ]
  },
  {
   "cell_type": "code",
   "execution_count": null,
   "id": "135975ca-9382-4787-bd56-ab6020a7778d",
   "metadata": {},
   "outputs": [],
   "source": []
  }
 ],
 "metadata": {
  "kernelspec": {
   "display_name": "Python 3 (ipykernel)",
   "language": "python",
   "name": "python3"
  },
  "language_info": {
   "codemirror_mode": {
    "name": "ipython",
    "version": 3
   },
   "file_extension": ".py",
   "mimetype": "text/x-python",
   "name": "python",
   "nbconvert_exporter": "python",
   "pygments_lexer": "ipython3",
   "version": "3.10.17"
  }
 },
 "nbformat": 4,
 "nbformat_minor": 5
}
