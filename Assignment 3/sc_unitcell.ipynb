{
 "cells": [
  {
   "cell_type": "markdown",
   "id": "c72f23ac-f8d1-4441-b6b7-f8fbc48f4a34",
   "metadata": {},
   "source": [
    "# Assignment 3 - Simple Cubic (SC) Unit Cell\n",
    "\n",
    "This notebook constructs and visualises a Simple Cubic (SC) lattice structure using ASE and NGLView.\n",
    "\n",
    "**Note:** This notebook builds upon the code used in `NSCI0032_L6-L8-Bravais.ipynb`, particularly Cells 20–23.\n"
   ]
  },
  {
   "cell_type": "code",
   "execution_count": 4,
   "id": "eb74ab05-47ba-4225-8214-e8b1bf3d448c",
   "metadata": {},
   "outputs": [
    {
     "data": {
      "application/vnd.jupyter.widget-view+json": {
       "model_id": "f8d9af263f8b4c4887a9db0ff3011ea4",
       "version_major": 2,
       "version_minor": 0
      },
      "text/plain": [
       "NGLWidget()"
      ]
     },
     "metadata": {},
     "output_type": "display_data"
    }
   ],
   "source": [
    "from ase import Atoms\n",
    "import nglview as nv\n",
    "\n",
    "# 设置晶格常数\n",
    "a = 4.0  # 单位：Å\n",
    "\n",
    "# 手动构建一个 SC 晶胞\n",
    "sc_unitcell = Atoms('X',\n",
    "                    positions=[[0, 0, 0]],\n",
    "                    cell=[a, a, a],\n",
    "                    pbc=True)\n",
    "\n",
    "# 创建 nglview 视图对象\n",
    "view = nv.show_ase(sc_unitcell)\n",
    "\n",
    "# ✅ 手动添加 unit cell 框架\n",
    "view.add_unitcell()\n",
    "\n",
    "# 显示视图\n",
    "view\n"
   ]
  }
 ],
 "metadata": {
  "kernelspec": {
   "display_name": "Python 3 (ipykernel)",
   "language": "python",
   "name": "python3"
  },
  "language_info": {
   "codemirror_mode": {
    "name": "ipython",
    "version": 3
   },
   "file_extension": ".py",
   "mimetype": "text/x-python",
   "name": "python",
   "nbconvert_exporter": "python",
   "pygments_lexer": "ipython3",
   "version": "3.10.17"
  }
 },
 "nbformat": 4,
 "nbformat_minor": 5
}
