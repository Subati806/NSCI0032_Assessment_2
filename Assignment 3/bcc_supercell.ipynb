{
 "cells": [
  {
   "cell_type": "markdown",
   "id": "c591402b-bb50-47b5-ac18-28acc1d07b87",
   "metadata": {},
   "source": [
    "# Assignment 3 - BCC Supercell\n",
    "\n",
    "This notebook constructs and visualises a 4×4×4 supercell of the Body-Centered Cubic (BCC) lattice.\n"
   ]
  },
  {
   "cell_type": "code",
   "execution_count": 1,
   "id": "15d01609-f40f-4fa3-906d-31e636c4e3e1",
   "metadata": {},
   "outputs": [
    {
     "data": {
      "application/vnd.jupyter.widget-view+json": {
       "model_id": "03638b6d96c1432da023e2edac18d1b5",
       "version_major": 2,
       "version_minor": 0
      },
      "text/plain": []
     },
     "metadata": {},
     "output_type": "display_data"
    },
    {
     "data": {
      "application/vnd.jupyter.widget-view+json": {
       "model_id": "84926b15f6d64284a6cd4841e857502e",
       "version_major": 2,
       "version_minor": 0
      },
      "text/plain": [
       "NGLWidget()"
      ]
     },
     "metadata": {},
     "output_type": "display_data"
    }
   ],
   "source": [
    "from ase.build import bulk\n",
    "import nglview as nv\n",
    "\n",
    "a = 4.0\n",
    "\n",
    "# 构建 BCC 单胞\n",
    "bcc = bulk('X', crystalstructure='bcc', a=a)\n",
    "\n",
    "# 构建 4×4×4 超晶胞\n",
    "bcc_super = bcc.repeat((4, 4, 4))\n",
    "\n",
    "# 可视化\n",
    "view = nv.show_ase(bcc_super)\n",
    "view.add_unitcell()\n",
    "view\n"
   ]
  },
  {
   "cell_type": "markdown",
   "id": "df0f8034-d55f-4a2b-8a6c-64ba85304dbf",
   "metadata": {},
   "source": [
    "- Structure: Body-Centered Cubic (BCC)\n",
    "- Lattice constant: a = 4.0 Å\n",
    "- Supercell size: 4×4×4\n",
    "- Number of atoms: 2 atoms/cell × 64 = 128 atoms"
   ]
  },
  {
   "cell_type": "code",
   "execution_count": null,
   "id": "4c20987e-745d-46bd-bf3f-4c8b093e8c90",
   "metadata": {},
   "outputs": [],
   "source": []
  }
 ],
 "metadata": {
  "kernelspec": {
   "display_name": "Python 3 (ipykernel)",
   "language": "python",
   "name": "python3"
  },
  "language_info": {
   "codemirror_mode": {
    "name": "ipython",
    "version": 3
   },
   "file_extension": ".py",
   "mimetype": "text/x-python",
   "name": "python",
   "nbconvert_exporter": "python",
   "pygments_lexer": "ipython3",
   "version": "3.10.17"
  }
 },
 "nbformat": 4,
 "nbformat_minor": 5
}
