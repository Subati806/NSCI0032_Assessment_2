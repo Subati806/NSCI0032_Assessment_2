{
 "cells": [
  {
   "cell_type": "markdown",
   "id": "ab24463e-216e-44ad-8670-05f4d44adefa",
   "metadata": {},
   "source": [
    "# Assignment 3 - Face-Centered Cubic (FCC) Unit Cell\n",
    "\n",
    "This notebook constructs and visualises the Face-Centered Cubic (FCC) lattice structure using ASE and NGLView.\n",
    "We demonstrate both the conventional and primitive unit cell.\n"
   ]
  },
  {
   "cell_type": "code",
   "execution_count": 1,
   "id": "68a28c7d-28cd-4290-ae6b-143e26f27b18",
   "metadata": {},
   "outputs": [
    {
     "data": {
      "application/vnd.jupyter.widget-view+json": {
       "model_id": "662e09fb9cca4cbbb1bba3a50578aac5",
       "version_major": 2,
       "version_minor": 0
      },
      "text/plain": []
     },
     "metadata": {},
     "output_type": "display_data"
    }
   ],
   "source": [
    "from ase.build import bulk\n",
    "import nglview as nv\n",
    "\n",
    "a = 4.0  # Lattice constant in Å\n"
   ]
  },
  {
   "cell_type": "code",
   "execution_count": 2,
   "id": "97b2b911-2b4c-4edc-880e-671e8d698abd",
   "metadata": {},
   "outputs": [
    {
     "data": {
      "application/vnd.jupyter.widget-view+json": {
       "model_id": "6494e7fe56a74f56865fe8d1828dafdd",
       "version_major": 2,
       "version_minor": 0
      },
      "text/plain": [
       "NGLWidget()"
      ]
     },
     "metadata": {},
     "output_type": "display_data"
    }
   ],
   "source": [
    "# 构建 FCC conventional unit cell\n",
    "fcc_conventional = bulk('X', crystalstructure='fcc', a=a)\n",
    "\n",
    "# 创建视图对象\n",
    "view = nv.show_ase(fcc_conventional)\n",
    "view.add_unitcell()\n",
    "view\n"
   ]
  },
  {
   "cell_type": "markdown",
   "id": "c31631ce-6ce9-4778-a150-3238e5f0fe39",
   "metadata": {},
   "source": [
    "The FCC lattice's primitive unit cell is different from the conventional cubic unit cell. However, ASE by default creates the primitive cell for computational purposes when using repeat() or supercell expansion. For visual purposes, the conventional FCC unit cell is shown here."
   ]
  },
  {
   "cell_type": "code",
   "execution_count": null,
   "id": "74bc0420-b0ac-4e84-9955-4d9085f96add",
   "metadata": {},
   "outputs": [],
   "source": []
  }
 ],
 "metadata": {
  "kernelspec": {
   "display_name": "Python 3 (ipykernel)",
   "language": "python",
   "name": "python3"
  },
  "language_info": {
   "codemirror_mode": {
    "name": "ipython",
    "version": 3
   },
   "file_extension": ".py",
   "mimetype": "text/x-python",
   "name": "python",
   "nbconvert_exporter": "python",
   "pygments_lexer": "ipython3",
   "version": "3.10.17"
  }
 },
 "nbformat": 4,
 "nbformat_minor": 5
}
