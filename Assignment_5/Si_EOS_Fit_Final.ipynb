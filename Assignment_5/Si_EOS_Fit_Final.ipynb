{
 "cells": [
  {
   "cell_type": "markdown",
   "id": "10babcd9-0b5f-4080-8874-ad09753d4ca2",
   "metadata": {},
   "source": [
    "# Si – Equation of State Calculation using Quantum ESPRESSO\n",
    "*This notebook was developed based on the structure and workflow provided in the example file `W9T1_ASE_EOS.ipynb`, as introduced in class.*\n",
    "\n",
    "This Jupyter Notebook performs an Equation of State (EOS) calculation for **Silicon (Si)** using **Quantum ESPRESSO**.\n"
   ]
  },
  {
   "cell_type": "markdown",
   "id": "3ef05cea-740e-4c37-a1c1-8bc4cdf255e3",
   "metadata": {},
   "source": [
    "###  Crystal Structure\n",
    "Silicon (Si) crystallizes in the **Diamond Cubic** structure.\n",
    "\n",
    "This structure is based on the FCC lattice with a basis of two atoms per lattice point, resulting in a tetrahedral coordination.\n",
    "\n",
    "---\n",
    "\n",
    "### Modifications Made\n",
    "- Changed the pseudopotential to `Si.pbe-n-kjpaw_psl.1.0.0.UPF`\n",
    "- Updated the prefix to `'si'`\n",
    "- Modified `ATOMIC_SPECIES` and `ATOMIC_POSITIONS` accordingly\n",
    "- Used a lattice constant initial guess of `a0 = 3.52 Å`\n"
   ]
  },
  {
   "cell_type": "code",
   "execution_count": 1,
   "id": "c57a32b0-e345-41f5-b589-97129986a50a",
   "metadata": {},
   "outputs": [],
   "source": [
    "import numpy as np\n",
    "import os\n"
   ]
  },
  {
   "cell_type": "markdown",
   "id": "2e97d021-e359-4a01-b6d3-d4f4ace04126",
   "metadata": {},
   "source": [
    "## Step 1: Generate Quantum ESPRESSO Input Files\n",
    "\n",
    "We define a function `write_qe_input()` that generates QE input files for a series of scaled lattice constants based on an initial guess `a0` and scaling factors `scale_range`.\n",
    "The pseudopotential path and output/input folder names are also set here.\n"
   ]
  },
  {
   "cell_type": "code",
   "execution_count": 2,
   "id": "d27434d8-beb4-4173-8931-8642179083ba",
   "metadata": {},
   "outputs": [],
   "source": [
    "# Cell 2\n",
    "a0 = 5.43  # Initial guess for lattice constant (Angstrom) for Silicon\n",
    "scale_range = np.linspace(0.96, 1.04, 9)  # ±4%\n",
    "\n",
    "input_dir = \"input_files\"\n",
    "pseudo_file = \"../../pseudopotentials/Si.pbe-n-kjpaw_psl.1.0.0.UPF\"\n",
    "\n",
    "def write_qe_input(a, index):\n",
    "    content = f\"\"\"&CONTROL\n",
    " calculation = 'scf',\n",
    " prefix = 'si',\n",
    " outdir = './tmp',\n",
    " pseudo_dir = '../../pseudopotentials/',\n",
    " /\n",
    "&SYSTEM\n",
    " ibrav = 2,\n",
    " celldm(1) = {a:.6f},\n",
    " nat = 1,\n",
    " ntyp = 1,\n",
    " ecutwfc = 60.0,\n",
    " ecutrho = 480.0,\n",
    " occupations = 'smearing',\n",
    " smearing = 'mp',\n",
    " degauss = 0.02,\n",
    " /\n",
    "&ELECTRONS\n",
    " conv_thr = 1.0d-6,\n",
    " /\n",
    "ATOMIC_SPECIES\n",
    " Si 28.0855 Si.pbe-n-kjpaw_psl.1.0.0.UPF\n",
    "ATOMIC_POSITIONS crystal\n",
    " Si 0.0 0.0 0.0\n",
    "K_POINTS automatic\n",
    " 6 6 6 1 1 1\n",
    "\"\"\"\n",
    "    os.makedirs(input_dir, exist_ok=True)\n",
    "    with open(f\"{input_dir}/si_{index:02d}.in\", \"w\") as f:\n",
    "        f.write(content)\n",
    "\n"
   ]
  },
  {
   "cell_type": "markdown",
   "id": "3dda5b9f-1dfa-4b7d-b928-3fe802b76b6c",
   "metadata": {},
   "source": [
    "### Generate `.in` files for each scaled lattice parameter\n",
    "\n",
    "Each file corresponds to a slightly different lattice constant to be used in separate QE SCF runs.\n"
   ]
  },
  {
   "cell_type": "code",
   "execution_count": 3,
   "id": "d7437330-0c65-4d30-837b-a2a2ba491e03",
   "metadata": {},
   "outputs": [
    {
     "name": "stdout",
     "output_type": "stream",
     "text": [
      "✅ 9 QE input files generated in 'input_files' folder.\n"
     ]
    }
   ],
   "source": [
    "\n",
    "for i, scale in enumerate(scale_range):\n",
    "    scaled_a = a0 * scale\n",
    "    write_qe_input(scaled_a, i)\n",
    "\n",
    "print(f\"✅ {len(scale_range)} QE input files generated in '{input_dir}' folder.\")\n",
    "\n"
   ]
  },
  {
   "cell_type": "code",
   "execution_count": 4,
   "id": "43e35c78-d1bc-4df7-943f-9c384fee65fa",
   "metadata": {},
   "outputs": [],
   "source": [
    "import os\n",
    "import re\n",
    "import numpy as np\n",
    "import matplotlib.pyplot as plt\n",
    "from scipy.optimize import curve_fit\n"
   ]
  },
  {
   "cell_type": "markdown",
   "id": "a76e0b5a-f2b2-4db2-91d3-9b804368bf78",
   "metadata": {},
   "source": [
    "## Step 2: Extract Total Energy from QE Output\n",
    "\n",
    "After SCF calculations are completed, we extract the total energy from each output file using this function.\n",
    "It searches for lines containing `\"! total energy\"` and parses the energy in Ry.\n"
   ]
  },
  {
   "cell_type": "code",
   "execution_count": 5,
   "id": "db2a85fc-3666-48f8-add6-1aa76b2a1a25",
   "metadata": {},
   "outputs": [],
   "source": [
    "def extract_total_energy(out_path):\n",
    "    with open(out_path, \"r\") as f:\n",
    "        for line in f:\n",
    "            if \"!    total energy\" in line:\n",
    "                energy = float(line.split()[-2])  # 提取倒数第二项\n",
    "                return energy\n",
    "    return None  # 若未找到\n"
   ]
  },
  {
   "cell_type": "code",
   "execution_count": 6,
   "id": "ec102fcd-859b-49ea-8d27-4907f1206a20",
   "metadata": {},
   "outputs": [],
   "source": [
    "import numpy as np\n",
    "\n",
    "a0 = 5.43  # 初始晶格常数（Si 的 fcc 晶格常用值）\n",
    "scale_range = np.linspace(0.96, 1.04, 9)  # 和输入文件相匹配"
   ]
  },
  {
   "cell_type": "code",
   "execution_count": 7,
   "id": "b900a57b-ae2b-4b5d-85ea-df0227663fda",
   "metadata": {},
   "outputs": [],
   "source": [
    "def lattice_constant_to_volume(a):\n",
    "    return a**3\n"
   ]
  },
  {
   "cell_type": "markdown",
   "id": "4861d856-c686-4a2d-bd16-8ad819b038da",
   "metadata": {},
   "source": [
    "## Step 3: Construct Volume–Energy Data\n",
    "\n",
    "Here, we compute volumes from the lattice constants and extract corresponding total energies from QE outputs.\n",
    "These values will be used for fitting in the next step.\n"
   ]
  },
  {
   "cell_type": "code",
   "execution_count": 8,
   "id": "e024d697-3a27-4be7-96d1-2863fccc6ea7",
   "metadata": {},
   "outputs": [],
   "source": [
    "output_dir = \"Si/output_files\"   # ✅ 修改路径！\n",
    "\n",
    "a_values = a0 * scale_range\n",
    "volumes = np.array([a**3 for a in a_values])  # simple cubic volume\n",
    "energies = []\n",
    "\n",
    "for i in range(len(scale_range)):\n",
    "    out_file = os.path.join(output_dir, f\"si_{i:02d}.out\")  # ✅ 注意前缀要与生成的文件匹配\n",
    "    energy = extract_total_energy(out_file)\n",
    "    if energy is not None:\n",
    "        energies.append(energy)\n",
    "    else:\n",
    "        print(f\"⚠️ Warning: No energy found in {out_file}\")\n",
    "\n",
    "energies = np.array(energies)\n",
    "\n"
   ]
  },
  {
   "cell_type": "markdown",
   "id": "797895b1-3656-4710-8164-e740d41aa90e",
   "metadata": {},
   "source": [
    "## Step 4: Fit Energy–Volume Data to Birch–Murnaghan EOS\n",
    "\n",
    "We use `scipy.optimize.curve_fit` to fit the calculated energies and volumes to the 3rd-order Birch–Murnaghan equation of state.\n",
    "This allows us to extract the equilibrium volume V₀, minimum energy E₀, bulk modulus B₀, and its pressure derivative B₀′.\n"
   ]
  },
  {
   "cell_type": "markdown",
   "id": "0e2c22d6-0026-47a9-b474-354322191d28",
   "metadata": {},
   "source": [
    "## Step 5: Visualize the EOS Fit\n",
    "\n",
    "We plot the original DFT total energies and the Birch–Murnaghan fit on the same graph to visually verify the quality of the fit.\n",
    "> ℹ️ The plotted E–V curve and fitted Birch–Murnaghan model clearly indicate a well-behaved EOS for crystalline Si.\n"
   ]
  },
  {
   "cell_type": "code",
   "execution_count": 11,
   "id": "fc244adc-4219-4dbd-ae61-de6942de4453",
   "metadata": {},
   "outputs": [
    {
     "name": "stdout",
     "output_type": "stream",
     "text": [
      "✅ Minimum Energy E0 = -46.665024 Ry\n",
      "✅ Equilibrium Volume V0 = 342.849411 Å³\n",
      "✅ Bulk Modulus B0 = 13.32 GPa\n",
      "✅ B0' = 3.76\n"
     ]
    },
    {
     "data": {
      "image/png": "[encoded data removed]",
      "text/plain": [
       "<Figure size 800x500 with 1 Axes>"
      ]
     },
     "metadata": {},
     "output_type": "display_data"
    }
   ],
   "source": [
    "import numpy as np\n",
    "import matplotlib.pyplot as plt\n",
    "from scipy.optimize import curve_fit\n",
    "\n",
    "# ✅ Birch-Murnaghan 方程定义\n",
    "def birch_murnaghan(V, E0, V0, B0, B0_prime):\n",
    "    eta = (V0 / V) ** (2/3) - 1\n",
    "    return E0 + (9 * B0 * V0 / 16) * (eta**3 * B0_prime + eta**2 * (6 - 4 * eta))\n",
    "\n",
    "# ✅ 初始猜测值\n",
    "E0_guess = np.min(energies)\n",
    "V0_guess = volumes[np.argmin(energies)]\n",
    "B0_guess = 0.6          # Ry/Å³\n",
    "B0_prime_guess = 4.0\n",
    "initial_guess = [E0_guess, V0_guess, B0_guess, B0_prime_guess]\n",
    "\n",
    "# ✅ 曲线拟合\n",
    "params, _ = curve_fit(birch_murnaghan, volumes, energies, p0=initial_guess, maxfev=20000)\n",
    "E0, V0, B0, B0_prime = params\n",
    "\n",
    "# ✅ 打印结果（转换单位：Ry/Å³ → GPa）\n",
    "print(f\"✅ Minimum Energy E0 = {E0:.6f} Ry\")\n",
    "print(f\"✅ Equilibrium Volume V0 = {V0:.6f} Å³\")\n",
    "print(f\"✅ Bulk Modulus B0 = {B0 * 14710:.2f} GPa\")\n",
    "print(f\"✅ B0' = {B0_prime:.2f}\")\n",
    "\n",
    "# ✅ 拟合曲线数据点\n",
    "V_fit = np.linspace(min(volumes), max(volumes), 100)\n",
    "E_fit = birch_murnaghan(V_fit, E0, V0, B0, B0_prime)\n",
    "\n",
    "# ✅ 绘图展示\n",
    "plt.figure(figsize=(8, 5))\n",
    "plt.plot(volumes, energies, 'o', label='DFT Data')\n",
    "plt.plot(V_fit, E_fit, '-', label='Birch-Murnaghan Fit')\n",
    "plt.xlabel(\"Volume (Å³)\")\n",
    "plt.ylabel(\"Energy (Ry)\")\n",
    "plt.legend()\n",
    "plt.title(\"Equation of State: Si\")\n",
    "plt.grid(True)\n",
    "plt.tight_layout()\n",
    "plt.show()\n"
   ]
  },
  {
   "cell_type": "markdown",
   "id": "9f898122-fd96-44df-ab62-b5979535852f",
   "metadata": {},
   "source": [
    "###  Lattice Constant Calculation for Si\n",
    "\n",
    "From the EOS fitting, the equilibrium volume was found to be:\n",
    "\n",
    "\\[\n",
    "V_0 = 342.8494 \\, \\text{Å}^3\n",
    "\\]\n",
    "\n",
    "The lattice constant \\( a_0 \\) is calculated as:\n",
    "\n",
    "\\[\n",
    "a_0 = V_0^{1/3} = 342.8494^{1/3} ≈ 6.995 \\, \\text{Å}\n",
    "\\]\n",
    "\n",
    "This value corresponds to the lattice constant for a cubic Si unit cell.\n"
   ]
  },
  {
   "cell_type": "markdown",
   "id": "0e4629a6-09fb-4b63-9b9b-e7280d6e763c",
   "metadata": {},
   "source": [
    "## Summary for Si EOS\n",
    "\n",
    "• **Minimum Energy (E₀):** extracted from the fitted curve  \n",
    "• **Equilibrium Volume (V₀):** volume at which energy is minimized  \n",
    "• **Bulk Modulus (B₀):** second derivative of E–V curve (converted from Ry/Å³ to GPa)  \n",
    "• **B₀′:** pressure derivative of the bulk modulus  \n",
    "\n",
    "This EOS workflow provides an essential basis for evaluating the mechanical properties of **Si** via DFT simulations.\n",
    "\n"
   ]
  },
  {
   "cell_type": "code",
   "execution_count": null,
   "id": "83c757b0-e3db-4ef9-8458-8b9e26b6d138",
   "metadata": {},
   "outputs": [],
   "source": []
  }
 ],
 "metadata": {
  "kernelspec": {
   "display_name": "Python 3 (ipykernel)",
   "language": "python",
   "name": "python3"
  },
  "language_info": {
   "codemirror_mode": {
    "name": "ipython",
    "version": 3
   },
   "file_extension": ".py",
   "mimetype": "text/x-python",
   "name": "python",
   "nbconvert_exporter": "python",
   "pygments_lexer": "ipython3",
   "version": "3.12.3"
  }
 },
 "nbformat": 4,
 "nbformat_minor": 5
}
